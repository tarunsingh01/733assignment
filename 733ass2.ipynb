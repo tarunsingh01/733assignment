{
 "cells": [
  {
   "cell_type": "code",
   "execution_count": 1,
   "metadata": {},
   "outputs": [
    {
     "name": "stderr",
     "output_type": "stream",
     "text": [
      "C:\\Users\\tarun\\AppData\\Local\\Temp\\ipykernel_13632\\3146383370.py:3: DeprecationWarning: `import pandas_profiling` is going to be deprecated by April 1st. Please use `import ydata_profiling` instead.\n",
      "  import pandas_profiling as pp\n"
     ]
    }
   ],
   "source": [
    "import pandas as pd\n",
    "import numpy as np\n",
    "import pandas_profiling as pp\n",
    "from pandas_profiling import ProfileReport"
   ]
  },
  {
   "cell_type": "code",
   "execution_count": 2,
   "metadata": {},
   "outputs": [],
   "source": [
    "# Read in red-wine.csv as a pandas dataframe\n",
    "df = pd.read_csv(r\"C:\\Users\\tarun\\Downloads\\red_wine.csv\")\n",
    "df1 = pd.read_csv(r\"C:\\Users\\tarun\\Downloads\\white_wine.csv\")"
   ]
  },
  {
   "cell_type": "code",
   "execution_count": 3,
   "metadata": {},
   "outputs": [
    {
     "name": "stdout",
     "output_type": "stream",
     "text": [
      "(571, 4)\n"
     ]
    }
   ],
   "source": [
    "#number of rows and columns\n",
    "print(df.shape)"
   ]
  },
  {
   "cell_type": "code",
   "execution_count": 4,
   "metadata": {},
   "outputs": [
    {
     "data": {
      "application/vnd.jupyter.widget-view+json": {
       "model_id": "868fd72734bd4a61a0870e681c502262",
       "version_major": 2,
       "version_minor": 0
      },
      "text/plain": [
       "Summarize dataset:   0%|          | 0/5 [00:00<?, ?it/s]"
      ]
     },
     "metadata": {},
     "output_type": "display_data"
    },
    {
     "data": {
      "application/vnd.jupyter.widget-view+json": {
       "model_id": "af398e560d794b528fa2545d65f3bf1f",
       "version_major": 2,
       "version_minor": 0
      },
      "text/plain": [
       "Generate report structure:   0%|          | 0/1 [00:00<?, ?it/s]"
      ]
     },
     "metadata": {},
     "output_type": "display_data"
    },
    {
     "data": {
      "application/vnd.jupyter.widget-view+json": {
       "model_id": "d4b2709c704e48ec84101c78e8db6ce6",
       "version_major": 2,
       "version_minor": 0
      },
      "text/plain": [
       "Render HTML:   0%|          | 0/1 [00:00<?, ?it/s]"
      ]
     },
     "metadata": {},
     "output_type": "display_data"
    },
    {
     "data": {
      "application/vnd.jupyter.widget-view+json": {
       "model_id": "7b566aed0a6e434495ad1ae27fa92dc9",
       "version_major": 2,
       "version_minor": 0
      },
      "text/plain": [
       "Export report to file:   0%|          | 0/1 [00:00<?, ?it/s]"
      ]
     },
     "metadata": {},
     "output_type": "display_data"
    }
   ],
   "source": [
    "#Create a profile report\n",
    "profile = ProfileReport(df)\n",
    "\n",
    "# Save the report as an HTML file\n",
    "profile.to_file(\"red-wine.html\")"
   ]
  },
  {
   "cell_type": "code",
   "execution_count": 5,
   "metadata": {},
   "outputs": [
    {
     "data": {
      "application/vnd.jupyter.widget-view+json": {
       "model_id": "238c30c03b1f414bbb5e904a9486af21",
       "version_major": 2,
       "version_minor": 0
      },
      "text/plain": [
       "Export report to file:   0%|          | 0/1 [00:00<?, ?it/s]"
      ]
     },
     "metadata": {},
     "output_type": "display_data"
    }
   ],
   "source": [
    "#convert to html\n",
    "profile.to_file(\"Profiling.html\")"
   ]
  },
  {
   "cell_type": "code",
   "execution_count": 7,
   "metadata": {},
   "outputs": [
    {
     "name": "stdout",
     "output_type": "stream",
     "text": [
      "Logestic Regression \n",
      "\n",
      "training accuracy : 0.7844611528822055 \n",
      "\n",
      "testing accuracy : 0.7906976744186046 \n",
      "\n",
      "AUC score :  0.8828938471940501\n"
     ]
    }
   ],
   "source": [
    "#Logistic Regression\n",
    "from sklearn.linear_model import LogisticRegression\n",
    "from sklearn.model_selection import train_test_split\n",
    "from sklearn import preprocessing, metrics\n",
    "\n",
    "x = df.iloc[:, :-1].values\n",
    "y = df.iloc[:, -1].values\n",
    "\n",
    "x_train, x_test, y_train, y_test = train_test_split(x, y, test_size=0.3, random_state=0)\n",
    "regr = LogisticRegression()\n",
    "regr.fit(x_train, y_train)\n",
    "\n",
    "y_pred_proba = regr.predict_proba(x_test)[::,1]\n",
    "auclr = metrics.roc_auc_score(y_test, y_pred_proba)\n",
    "\n",
    "print(\"Logestic Regression\", \"\\n\")\n",
    "print(\"training accuracy :\", regr.score(x_train, y_train), \"\\n\")\n",
    "print(\"testing accuracy :\", regr.score(x_test, y_test), \"\\n\")\n",
    "print(\"AUC score : \",  auclr)"
   ]
  },
  {
   "cell_type": "code",
   "execution_count": 8,
   "metadata": {},
   "outputs": [
    {
     "name": "stdout",
     "output_type": "stream",
     "text": [
      "[0.3  0.89 0.5  0.66 0.39 0.82 0.68 0.45 0.33 0.46 1.01 0.56 0.39 0.36\n",
      " 0.84 0.36 0.69 0.48 0.57 0.48 0.43 0.84 1.05 0.87 0.64 0.46 0.46 0.78\n",
      " 0.52 0.87 0.7  2.   0.46 0.49 0.57 0.45 0.7  0.71 0.81 0.36 0.64 0.62\n",
      " 0.77 0.76 0.92 0.66 0.38 0.44 0.58 0.38 0.6  0.64 0.3  0.44 0.39 0.56\n",
      " 1.08 0.46 0.88 0.69 0.38 0.3  0.38 0.59 0.77 0.85 0.58 0.77 0.48 0.52\n",
      " 0.66 0.49 0.73 0.5  0.44 0.35 0.68 0.47 0.33 0.64 0.34 0.63 0.32 0.62\n",
      " 0.62 0.52 0.46 0.82 0.28 0.48 0.54 0.49 0.4  0.38 0.34 0.49 0.32 0.43\n",
      " 0.84 0.92 0.55 0.7  0.74 0.84 0.47 0.46 0.72 0.7  0.65 0.62 0.65 0.38\n",
      " 0.5  0.69 0.46 0.64 0.68 0.55 0.55 0.48 0.86 0.43 0.79 0.73 1.13 0.57\n",
      " 0.78 0.73 0.49 0.32 0.44 0.66 0.41 0.65 1.02 0.34 0.59 0.52 0.67 0.55\n",
      " 0.82 0.83 0.47 0.32 0.56 0.31 0.48 0.69 0.6  0.54 0.72 0.48 0.39 0.54\n",
      " 0.37 1.08 0.34 0.77 0.6  0.57 0.85 0.74 0.49 0.86 0.75 0.59 0.47 0.71\n",
      " 0.55 0.37 0.59 0.33]\n"
     ]
    }
   ],
   "source": [
    "print((x_test)[::,1])"
   ]
  },
  {
   "cell_type": "code",
   "execution_count": 9,
   "metadata": {},
   "outputs": [
    {
     "name": "stdout",
     "output_type": "stream",
     "text": [
      "Accuracy 0.8608695652173913\n"
     ]
    }
   ],
   "source": [
    "#Naive_Bayes\n",
    "from sklearn.naive_bayes import GaussianNB\n",
    "x_train, x_test, y_train, y_test = train_test_split(x, y, test_size=0.2, random_state=0)\n",
    "model = GaussianNB()\n",
    "model.fit(x_train, y_train)\n",
    "a = model.score(x_test, y_test)\n",
    "print(\"Accuracy\", a)"
   ]
  },
  {
   "cell_type": "code",
   "execution_count": 10,
   "metadata": {},
   "outputs": [
    {
     "name": "stdout",
     "output_type": "stream",
     "text": [
      "AUC score :  0.9202678027997565\n"
     ]
    }
   ],
   "source": [
    "y_pred_proba = model.predict_proba(x_test)[::,1]\n",
    "auclr = metrics.roc_auc_score(y_test, y_pred_proba)\n",
    "print(\"AUC score : \",  auclr)"
   ]
  },
  {
   "cell_type": "code",
   "execution_count": 11,
   "metadata": {},
   "outputs": [
    {
     "name": "stdout",
     "output_type": "stream",
     "text": [
      "Accuracy 0.8\n"
     ]
    }
   ],
   "source": [
    "#Decision_Tree\n",
    "from sklearn.tree import DecisionTreeClassifier\n",
    "model = DecisionTreeClassifier(random_state=0)\n",
    "model.fit(x_train, y_train)\n",
    "y_pred = model.predict(x_test)\n",
    "from sklearn.metrics import accuracy_score\n",
    "score = accuracy_score(y_pred, y_test)\n",
    "print(\"Accuracy\", score)"
   ]
  },
  {
   "cell_type": "code",
   "execution_count": 12,
   "metadata": {},
   "outputs": [
    {
     "name": "stdout",
     "output_type": "stream",
     "text": [
      "AUC score :  0.7967133292757153\n"
     ]
    }
   ],
   "source": [
    "y_pred_proba = model.predict_proba(x_test)[::,1]\n",
    "auclr = metrics.roc_auc_score(y_test, y_pred_proba)\n",
    "print(\"AUC score : \",  auclr)"
   ]
  },
  {
   "cell_type": "code",
   "execution_count": 13,
   "metadata": {},
   "outputs": [
    {
     "name": "stdout",
     "output_type": "stream",
     "text": [
      "Accuracy Score: 0.8260869565217391\n",
      "Area under the ROC curve : 0.898661\n"
     ]
    }
   ],
   "source": [
    "#Support Vector Machine\n",
    "from sklearn.svm import SVC\n",
    "from sklearn.metrics import roc_curve, auc\n",
    "\n",
    "x = df.iloc[:, :-1].values\n",
    "y = df.iloc[:, -1].values\n",
    "\n",
    "from sklearn.preprocessing import LabelEncoder\n",
    "labelencoder = LabelEncoder()\n",
    "\n",
    "y = labelencoder.fit_transform(y)\n",
    "x_train, x_test, y_train, y_test = train_test_split(x, y, test_size=0.2, random_state=0)\n",
    "\n",
    "\n",
    "# Run classifier\n",
    "classifier = SVC(kernel='linear', probability=True)\n",
    "probas_ = classifier.fit(x_train, y_train).predict_proba(x_test)\n",
    "\n",
    "rf_y_pred = classifier.predict(x_test)\n",
    "print('Accuracy Score:', accuracy_score(y_test, rf_y_pred))\n",
    "\n",
    "fpr, tpr, thresholds = roc_curve(y_test, probas_[:, 1])\n",
    "roc_auc = auc(fpr, tpr)\n",
    "print(\"Area under the ROC curve : %f\" % roc_auc)"
   ]
  },
  {
   "cell_type": "code",
   "execution_count": 14,
   "metadata": {},
   "outputs": [
    {
     "name": "stdout",
     "output_type": "stream",
     "text": [
      "Accuracy Score: 0.8521739130434782\n"
     ]
    },
    {
     "ename": "KeyboardInterrupt",
     "evalue": "",
     "output_type": "error",
     "traceback": [
      "\u001b[1;31m---------------------------------------------------------------------------\u001b[0m",
      "\u001b[1;31mKeyboardInterrupt\u001b[0m                         Traceback (most recent call last)",
      "Cell \u001b[1;32mIn[14], line 17\u001b[0m\n\u001b[0;32m     15\u001b[0m rfc_disp \u001b[39m=\u001b[39m RocCurveDisplay\u001b[39m.\u001b[39mfrom_estimator(rf_model, x_test, y_test, ax\u001b[39m=\u001b[39max, alpha\u001b[39m=\u001b[39m\u001b[39m0.8\u001b[39m)\n\u001b[0;32m     16\u001b[0m rfc_disp\u001b[39m.\u001b[39mplot\n\u001b[1;32m---> 17\u001b[0m plt\u001b[39m.\u001b[39;49mshow()\n",
      "File \u001b[1;32mc:\\Users\\tarun\\AppData\\Local\\Programs\\Python\\Python310\\lib\\site-packages\\matplotlib\\pyplot.py:421\u001b[0m, in \u001b[0;36mshow\u001b[1;34m(*args, **kwargs)\u001b[0m\n\u001b[0;32m    377\u001b[0m \u001b[39m\u001b[39m\u001b[39m\"\"\"\u001b[39;00m\n\u001b[0;32m    378\u001b[0m \u001b[39mDisplay all open figures.\u001b[39;00m\n\u001b[0;32m    379\u001b[0m \n\u001b[1;32m   (...)\u001b[0m\n\u001b[0;32m    418\u001b[0m \u001b[39mexplicitly there.\u001b[39;00m\n\u001b[0;32m    419\u001b[0m \u001b[39m\"\"\"\u001b[39;00m\n\u001b[0;32m    420\u001b[0m _warn_if_gui_out_of_main_thread()\n\u001b[1;32m--> 421\u001b[0m \u001b[39mreturn\u001b[39;00m _get_backend_mod()\u001b[39m.\u001b[39mshow(\u001b[39m*\u001b[39margs, \u001b[39m*\u001b[39m\u001b[39m*\u001b[39mkwargs)\n",
      "File \u001b[1;32mc:\\Users\\tarun\\AppData\\Local\\Programs\\Python\\Python310\\lib\\site-packages\\matplotlib\\backend_bases.py:3554\u001b[0m, in \u001b[0;36m_Backend.show\u001b[1;34m(cls, block)\u001b[0m\n\u001b[0;32m   3552\u001b[0m     block \u001b[39m=\u001b[39m \u001b[39mnot\u001b[39;00m ipython_pylab \u001b[39mand\u001b[39;00m \u001b[39mnot\u001b[39;00m is_interactive()\n\u001b[0;32m   3553\u001b[0m \u001b[39mif\u001b[39;00m block:\n\u001b[1;32m-> 3554\u001b[0m     \u001b[39mcls\u001b[39;49m\u001b[39m.\u001b[39;49mmainloop()\n",
      "File \u001b[1;32mc:\\Users\\tarun\\AppData\\Local\\Programs\\Python\\Python310\\lib\\site-packages\\matplotlib\\backends\\_backend_tk.py:1040\u001b[0m, in \u001b[0;36m_BackendTk.mainloop\u001b[1;34m()\u001b[0m\n\u001b[0;32m   1038\u001b[0m manager_class\u001b[39m.\u001b[39m_owns_mainloop \u001b[39m=\u001b[39m \u001b[39mTrue\u001b[39;00m\n\u001b[0;32m   1039\u001b[0m \u001b[39mtry\u001b[39;00m:\n\u001b[1;32m-> 1040\u001b[0m     first_manager\u001b[39m.\u001b[39;49mwindow\u001b[39m.\u001b[39;49mmainloop()\n\u001b[0;32m   1041\u001b[0m \u001b[39mfinally\u001b[39;00m:\n\u001b[0;32m   1042\u001b[0m     manager_class\u001b[39m.\u001b[39m_owns_mainloop \u001b[39m=\u001b[39m \u001b[39mFalse\u001b[39;00m\n",
      "File \u001b[1;32mc:\\Users\\tarun\\AppData\\Local\\Programs\\Python\\Python310\\lib\\tkinter\\__init__.py:1458\u001b[0m, in \u001b[0;36mMisc.mainloop\u001b[1;34m(self, n)\u001b[0m\n\u001b[0;32m   1456\u001b[0m \u001b[39mdef\u001b[39;00m \u001b[39mmainloop\u001b[39m(\u001b[39mself\u001b[39m, n\u001b[39m=\u001b[39m\u001b[39m0\u001b[39m):\n\u001b[0;32m   1457\u001b[0m \u001b[39m    \u001b[39m\u001b[39m\"\"\"Call the mainloop of Tk.\"\"\"\u001b[39;00m\n\u001b[1;32m-> 1458\u001b[0m     \u001b[39mself\u001b[39;49m\u001b[39m.\u001b[39;49mtk\u001b[39m.\u001b[39;49mmainloop(n)\n",
      "\u001b[1;31mKeyboardInterrupt\u001b[0m: "
     ]
    }
   ],
   "source": [
    "#Random Forest\n",
    "import matplotlib\n",
    "matplotlib.use('TkAgg')\n",
    "from sklearn.ensemble import RandomForestClassifier\n",
    "from matplotlib import pyplot as plt\n",
    "from sklearn.metrics import RocCurveDisplay\n",
    "\n",
    "rf_model = RandomForestClassifier(max_depth=10, max_features=3, max_samples=0.4, n_estimators=50)\n",
    "rf_model.fit(x_train, y_train)\n",
    "\n",
    "rf_y_pred = rf_model.predict(x_test)\n",
    "print('Accuracy Score:', accuracy_score(y_test, rf_y_pred))\n",
    "\n",
    "ax = plt.gca()\n",
    "rfc_disp = RocCurveDisplay.from_estimator(rf_model, x_test, y_test, ax=ax, alpha=0.8)\n",
    "rfc_disp.plot\n",
    "plt.show()"
   ]
  },
  {
   "cell_type": "code",
   "execution_count": 15,
   "metadata": {},
   "outputs": [
    {
     "data": {
      "text/plain": [
       "0.5288966725043783"
      ]
     },
     "execution_count": 15,
     "metadata": {},
     "output_type": "execute_result"
    }
   ],
   "source": [
    "#ZeroR and OneR Classifier\n",
    "import numpy as np\n",
    "from sklearn.dummy import DummyClassifier\n",
    "\n",
    "dummy_clf = DummyClassifier(strategy=\"most_frequent\")\n",
    "dummy_clf.fit(x, y)\n",
    "DummyClassifier(strategy='most_frequent')\n",
    "dummy_clf.predict(x)\n",
    "dummy_clf.score(x, y)"
   ]
  },
  {
   "cell_type": "code",
   "execution_count": 16,
   "metadata": {},
   "outputs": [
    {
     "name": "stdout",
     "output_type": "stream",
     "text": [
      "Accuracy Score: 0.875\n"
     ]
    },
    {
     "ename": "KeyboardInterrupt",
     "evalue": "",
     "output_type": "error",
     "traceback": [
      "\u001b[1;31m---------------------------------------------------------------------------\u001b[0m",
      "\u001b[1;31mKeyboardInterrupt\u001b[0m                         Traceback (most recent call last)",
      "Cell \u001b[1;32mIn[16], line 27\u001b[0m\n\u001b[0;32m     25\u001b[0m rfc_disp \u001b[39m=\u001b[39m RocCurveDisplay\u001b[39m.\u001b[39mfrom_estimator(rf_model, x1_test, y1_test, ax\u001b[39m=\u001b[39max, alpha\u001b[39m=\u001b[39m\u001b[39m0.8\u001b[39m)\n\u001b[0;32m     26\u001b[0m rfc_disp\u001b[39m.\u001b[39mplot\n\u001b[1;32m---> 27\u001b[0m plt\u001b[39m.\u001b[39;49mshow()\n",
      "File \u001b[1;32mc:\\Users\\tarun\\AppData\\Local\\Programs\\Python\\Python310\\lib\\site-packages\\matplotlib\\pyplot.py:421\u001b[0m, in \u001b[0;36mshow\u001b[1;34m(*args, **kwargs)\u001b[0m\n\u001b[0;32m    377\u001b[0m \u001b[39m\u001b[39m\u001b[39m\"\"\"\u001b[39;00m\n\u001b[0;32m    378\u001b[0m \u001b[39mDisplay all open figures.\u001b[39;00m\n\u001b[0;32m    379\u001b[0m \n\u001b[1;32m   (...)\u001b[0m\n\u001b[0;32m    418\u001b[0m \u001b[39mexplicitly there.\u001b[39;00m\n\u001b[0;32m    419\u001b[0m \u001b[39m\"\"\"\u001b[39;00m\n\u001b[0;32m    420\u001b[0m _warn_if_gui_out_of_main_thread()\n\u001b[1;32m--> 421\u001b[0m \u001b[39mreturn\u001b[39;00m _get_backend_mod()\u001b[39m.\u001b[39mshow(\u001b[39m*\u001b[39margs, \u001b[39m*\u001b[39m\u001b[39m*\u001b[39mkwargs)\n",
      "File \u001b[1;32mc:\\Users\\tarun\\AppData\\Local\\Programs\\Python\\Python310\\lib\\site-packages\\matplotlib\\backend_bases.py:3554\u001b[0m, in \u001b[0;36m_Backend.show\u001b[1;34m(cls, block)\u001b[0m\n\u001b[0;32m   3552\u001b[0m     block \u001b[39m=\u001b[39m \u001b[39mnot\u001b[39;00m ipython_pylab \u001b[39mand\u001b[39;00m \u001b[39mnot\u001b[39;00m is_interactive()\n\u001b[0;32m   3553\u001b[0m \u001b[39mif\u001b[39;00m block:\n\u001b[1;32m-> 3554\u001b[0m     \u001b[39mcls\u001b[39;49m\u001b[39m.\u001b[39;49mmainloop()\n",
      "File \u001b[1;32mc:\\Users\\tarun\\AppData\\Local\\Programs\\Python\\Python310\\lib\\site-packages\\matplotlib\\backends\\_backend_tk.py:1040\u001b[0m, in \u001b[0;36m_BackendTk.mainloop\u001b[1;34m()\u001b[0m\n\u001b[0;32m   1038\u001b[0m manager_class\u001b[39m.\u001b[39m_owns_mainloop \u001b[39m=\u001b[39m \u001b[39mTrue\u001b[39;00m\n\u001b[0;32m   1039\u001b[0m \u001b[39mtry\u001b[39;00m:\n\u001b[1;32m-> 1040\u001b[0m     first_manager\u001b[39m.\u001b[39;49mwindow\u001b[39m.\u001b[39;49mmainloop()\n\u001b[0;32m   1041\u001b[0m \u001b[39mfinally\u001b[39;00m:\n\u001b[0;32m   1042\u001b[0m     manager_class\u001b[39m.\u001b[39m_owns_mainloop \u001b[39m=\u001b[39m \u001b[39mFalse\u001b[39;00m\n",
      "File \u001b[1;32mc:\\Users\\tarun\\AppData\\Local\\Programs\\Python\\Python310\\lib\\tkinter\\__init__.py:1458\u001b[0m, in \u001b[0;36mMisc.mainloop\u001b[1;34m(self, n)\u001b[0m\n\u001b[0;32m   1456\u001b[0m \u001b[39mdef\u001b[39;00m \u001b[39mmainloop\u001b[39m(\u001b[39mself\u001b[39m, n\u001b[39m=\u001b[39m\u001b[39m0\u001b[39m):\n\u001b[0;32m   1457\u001b[0m \u001b[39m    \u001b[39m\u001b[39m\"\"\"Call the mainloop of Tk.\"\"\"\u001b[39;00m\n\u001b[1;32m-> 1458\u001b[0m     \u001b[39mself\u001b[39;49m\u001b[39m.\u001b[39;49mtk\u001b[39m.\u001b[39;49mmainloop(n)\n",
      "\u001b[1;31mKeyboardInterrupt\u001b[0m: "
     ]
    }
   ],
   "source": [
    "#Random Forest on white wine\n",
    "import matplotlib\n",
    "matplotlib.use('TkAgg')\n",
    "from sklearn.ensemble import RandomForestClassifier\n",
    "from sklearn.model_selection import train_test_split\n",
    "from sklearn import preprocessing, metrics\n",
    "from sklearn.metrics import accuracy_score\n",
    "from matplotlib import pyplot as plt\n",
    "from sklearn.metrics import RocCurveDisplay\n",
    "\n",
    "x1 = df1.iloc[:, :-1].values\n",
    "y1 = df1.iloc[:, -1].values\n",
    "\n",
    "x1_train, x1_test, y1_train, y1_test = train_test_split(x1, y1, test_size=0.3, random_state=0)\n",
    "\n",
    "from sklearn.metrics import RocCurveDisplay\n",
    "\n",
    "rf_model = RandomForestClassifier(max_depth=10, max_features=3, max_samples=0.4, n_estimators=50)\n",
    "rf_model.fit(x1_train, y1_train)\n",
    "\n",
    "rf_y1_pred = rf_model.predict(x1_test)\n",
    "print('Accuracy Score:', accuracy_score(y1_test, rf_y1_pred))\n",
    "\n",
    "ax = plt.gca()\n",
    "rfc_disp = RocCurveDisplay.from_estimator(rf_model, x1_test, y1_test, ax=ax, alpha=0.8)\n",
    "rfc_disp.plot\n",
    "plt.show()"
   ]
  },
  {
   "cell_type": "code",
   "execution_count": 17,
   "metadata": {},
   "outputs": [],
   "source": [
    "#Table of accuracy and AUC \n",
    "\n",
    "data = {'Accuracy(%)': [52.88,52.88,78.44,86.08,80.00, 82.61,80.860],\n",
    "       'AUC':['N/A','N/A',0.88,0.92,0.79,0.89,0.92]}\n",
    "df_table = pd.DataFrame(data,index=[\"ZeroR\",\"OneR\",\"LR\",\"NB\",\"DT\",\"SVM\",\"RF\"])"
   ]
  },
  {
   "cell_type": "code",
   "execution_count": 18,
   "metadata": {},
   "outputs": [
    {
     "data": {
      "text/html": [
       "<div>\n",
       "<style scoped>\n",
       "    .dataframe tbody tr th:only-of-type {\n",
       "        vertical-align: middle;\n",
       "    }\n",
       "\n",
       "    .dataframe tbody tr th {\n",
       "        vertical-align: top;\n",
       "    }\n",
       "\n",
       "    .dataframe thead th {\n",
       "        text-align: right;\n",
       "    }\n",
       "</style>\n",
       "<table border=\"1\" class=\"dataframe\">\n",
       "  <thead>\n",
       "    <tr style=\"text-align: right;\">\n",
       "      <th></th>\n",
       "      <th>Accuracy(%)</th>\n",
       "      <th>AUC</th>\n",
       "    </tr>\n",
       "  </thead>\n",
       "  <tbody>\n",
       "    <tr>\n",
       "      <th>ZeroR</th>\n",
       "      <td>52.88</td>\n",
       "      <td>N/A</td>\n",
       "    </tr>\n",
       "    <tr>\n",
       "      <th>OneR</th>\n",
       "      <td>52.88</td>\n",
       "      <td>N/A</td>\n",
       "    </tr>\n",
       "    <tr>\n",
       "      <th>LR</th>\n",
       "      <td>78.44</td>\n",
       "      <td>0.88</td>\n",
       "    </tr>\n",
       "    <tr>\n",
       "      <th>NB</th>\n",
       "      <td>86.08</td>\n",
       "      <td>0.92</td>\n",
       "    </tr>\n",
       "    <tr>\n",
       "      <th>DT</th>\n",
       "      <td>80.00</td>\n",
       "      <td>0.79</td>\n",
       "    </tr>\n",
       "    <tr>\n",
       "      <th>SVM</th>\n",
       "      <td>82.61</td>\n",
       "      <td>0.89</td>\n",
       "    </tr>\n",
       "    <tr>\n",
       "      <th>RF</th>\n",
       "      <td>80.86</td>\n",
       "      <td>0.92</td>\n",
       "    </tr>\n",
       "  </tbody>\n",
       "</table>\n",
       "</div>"
      ],
      "text/plain": [
       "       Accuracy(%)   AUC\n",
       "ZeroR        52.88   N/A\n",
       "OneR         52.88   N/A\n",
       "LR           78.44  0.88\n",
       "NB           86.08  0.92\n",
       "DT           80.00  0.79\n",
       "SVM          82.61  0.89\n",
       "RF           80.86  0.92"
      ]
     },
     "execution_count": 18,
     "metadata": {},
     "output_type": "execute_result"
    },
    {
     "ename": "",
     "evalue": "",
     "output_type": "error",
     "traceback": [
      "\u001b[1;31mThe Kernel crashed while executing code in the the current cell or a previous cell. Please review the code in the cell(s) to identify a possible cause of the failure. Click <a href='https://aka.ms/vscodeJupyterKernelCrash'>here</a> for more info. View Jupyter <a href='command:jupyter.viewOutput'>log</a> for further details."
     ]
    }
   ],
   "source": [
    "df_table\n"
   ]
  }
 ],
 "metadata": {
  "kernelspec": {
   "display_name": "Python 3",
   "language": "python",
   "name": "python3"
  },
  "language_info": {
   "codemirror_mode": {
    "name": "ipython",
    "version": 3
   },
   "file_extension": ".py",
   "mimetype": "text/x-python",
   "name": "python",
   "nbconvert_exporter": "python",
   "pygments_lexer": "ipython3",
   "version": "3.10.10"
  },
  "orig_nbformat": 4
 },
 "nbformat": 4,
 "nbformat_minor": 2
}
